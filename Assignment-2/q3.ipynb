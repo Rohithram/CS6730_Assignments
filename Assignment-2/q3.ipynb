{
 "cells": [
  {
   "cell_type": "code",
   "execution_count": 130,
   "metadata": {
    "collapsed": true
   },
   "outputs": [],
   "source": [
    "import numpy as np\n",
    "import pandas as pd\n",
    "import scipy.stats as st\n",
    "import seaborn as sns\n",
    "import matplotlib.pyplot as plt\n",
    "from matplotlib import colors"
   ]
  },
  {
   "cell_type": "code",
   "execution_count": 111,
   "metadata": {
    "collapsed": true
   },
   "outputs": [],
   "source": [
    "def p(x_neig):\n",
    "    if(1 in x_neig):\n",
    "        x_new = 0\n",
    "    else:\n",
    "        x_new = int(np.random.choice([0,1],size=1))\n",
    "    return x_new"
   ]
  },
  {
   "cell_type": "code",
   "execution_count": 150,
   "metadata": {
    "collapsed": true
   },
   "outputs": [],
   "source": [
    "def bintodec(x):\n",
    "     return int(''.join(str(el) for  el in x.reshape(-1)),2)"
   ]
  },
  {
   "cell_type": "code",
   "execution_count": 297,
   "metadata": {
    "collapsed": true
   },
   "outputs": [],
   "source": [
    "def gibbs_sampler(p, n, n_samples = 1000, no_iter=10000,tol = 1e-2):\n",
    "    \n",
    "    x = np.zeros((n,n),dtype='int')\n",
    "    k = 0\n",
    "    x_binmap =  []\n",
    "    mean_ = bintodec(x)\n",
    "    mean = 1\n",
    "    x_samplesmap = np.zeros(n_samples)\n",
    "    samples = np.zeros((n_samples,n,n))\n",
    "    \n",
    "    # burn-in period\n",
    "    while(abs(mean_- mean)>tol and k<no_iter):\n",
    "        x_neigh = []\n",
    "        i,j = np.random.randint(0,n,1)[0],np.random.randint(0,n,1)[0]\n",
    "        if(k>1):\n",
    "            mean_ = np.mean(x_binmap[:-1])\n",
    "        if(i+1<=n-1):\n",
    "            x_neigh.append(x[i+1,j])\n",
    "        if(i-1>=0):\n",
    "            x_neigh.append(x[i-1,j])\n",
    "        if(j-1>=0):\n",
    "            x_neigh.append(x[i,j-1])\n",
    "        if(j+1<=n-1):\n",
    "            x_neigh.append(x[i,j+1])\n",
    "        \n",
    "        x[i,j] = p(x_neigh)\n",
    "        x_binmap.append(bintodec(x))\n",
    "        mean = np.mean(x_binmap)\n",
    "#         print(mean,mean_)\n",
    "        k+=1\n",
    "        \n",
    "    burn_in = k\n",
    "    print(\"Burn-in Steps: {}\".format(burn_in))\n",
    "    \n",
    "    # sample collection period\n",
    "    for j in range(n_samples):\n",
    "        x_neigh = []\n",
    "        i,j = np.random.randint(0,n,1)[0],np.random.randint(0,n,1)[0]\n",
    "        \n",
    "        if(i+1<=n-1):\n",
    "            x_neigh.append(x[i+1,j])\n",
    "        if(i-1>=0):\n",
    "            x_neigh.append(x[i-1,j])\n",
    "        if(j-1>=0):\n",
    "            x_neigh.append(x[i,j-1])\n",
    "        if(j+1<=n-1):\n",
    "            x_neigh.append(x[i,j+1])\n",
    "        \n",
    "        x[i,j] = p(x_neigh)\n",
    "        x_samplesmap[j] = (bintodec(x))\n",
    "        \n",
    "        samples[j] = x\n",
    "    \n",
    "    return burn_in,x_binmap,x_samplesmap,samples"
   ]
  },
  {
   "cell_type": "code",
   "execution_count": 331,
   "metadata": {
    "collapsed": true
   },
   "outputs": [],
   "source": [
    "n = 2\n",
    "no_iter = 8000\n",
    "tol = 1e-2"
   ]
  },
  {
   "cell_type": "code",
   "execution_count": 332,
   "metadata": {},
   "outputs": [
    {
     "name": "stdout",
     "output_type": "stream",
     "text": [
      "Burn-in Steps: 43\n"
     ]
    }
   ],
   "source": [
    "burn_in,x_binmap,x_samplesmap,samples =gibbs_sampler(p,n,no_iter=no_iter,tol=tol)"
   ]
  },
  {
   "cell_type": "code",
   "execution_count": 333,
   "metadata": {},
   "outputs": [
    {
     "data": {
      "image/png": "[encoded data removed]",
      "text/plain": [
       "<Figure size 432x288 with 1 Axes>"
      ]
     },
     "metadata": {
      "needs_background": "light"
     },
     "output_type": "display_data"
    }
   ],
   "source": [
    "plt.plot(x_binmap)\n",
    "plt.title(\"Trace Plots for binary to decimal mapping\")\n",
    "plt.show()"
   ]
  },
  {
   "cell_type": "code",
   "execution_count": 334,
   "metadata": {},
   "outputs": [
    {
     "data": {
      "image/png": "[encoded data removed]",
      "text/plain": [
       "<Figure size 432x288 with 1 Axes>"
      ]
     },
     "metadata": {
      "needs_background": "light"
     },
     "output_type": "display_data"
    }
   ],
   "source": [
    "plt.hist(x_binmap,density=True)\n",
    "plt.show()"
   ]
  },
  {
   "cell_type": "code",
   "execution_count": 335,
   "metadata": {},
   "outputs": [
    {
     "data": {
      "image/png": "[encoded data removed]",
      "text/plain": [
       "<Figure size 432x288 with 1 Axes>"
      ]
     },
     "metadata": {
      "needs_background": "light"
     },
     "output_type": "display_data"
    }
   ],
   "source": [
    "plt.hist(x_samplesmap,density=True)\n",
    "plt.show()"
   ]
  },
  {
   "cell_type": "code",
   "execution_count": null,
   "metadata": {
    "scrolled": false
   },
   "outputs": [],
   "source": [
    "burns = [100,294,1003,2045,6000]\n",
    "grids = [2,3,4,5,6]\n",
    "tol = 1e-2\n",
    "no_iter = 40000\n",
    "for n in grids:\n",
    "    burn_in,x_binmap,x_samplesmap,samples =gibbs_sampler(p,n,no_iter=no_iter,tol=tol)\n",
    "    burns.append(burn_in)"
   ]
  },
  {
   "cell_type": "code",
   "execution_count": 353,
   "metadata": {},
   "outputs": [
    {
     "data": {
      "text/plain": [
       "Text(0.5,1,'Burn-in time vs grid size')"
      ]
     },
     "execution_count": 353,
     "metadata": {},
     "output_type": "execute_result"
    },
    {
     "data": {
      "image/png": "[encoded data removed]",
      "text/plain": [
       "<Figure size 432x288 with 1 Axes>"
      ]
     },
     "metadata": {
      "needs_background": "light"
     },
     "output_type": "display_data"
    }
   ],
   "source": [
    "plt.plot(grids,burns)\n",
    "plt.title(\"Burn-in time vs grid size\")"
   ]
  }
 ],
 "metadata": {
  "kernelspec": {
   "display_name": "Python 3",
   "language": "python",
   "name": "python3"
  },
  "language_info": {
   "codemirror_mode": {
    "name": "ipython",
    "version": 3
   },
   "file_extension": ".py",
   "mimetype": "text/x-python",
   "name": "python",
   "nbconvert_exporter": "python",
   "pygments_lexer": "ipython3",
   "version": "3.6.8"
  }
 },
 "nbformat": 4,
 "nbformat_minor": 2
}
