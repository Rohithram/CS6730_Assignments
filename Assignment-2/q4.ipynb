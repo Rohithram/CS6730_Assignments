{
 "cells": [
  {
   "cell_type": "code",
   "execution_count": 1,
   "metadata": {
    "collapsed": true
   },
   "outputs": [],
   "source": [
    "import numpy as np\n",
    "import pandas as pd\n",
    "import scipy.stats as st\n",
    "import seaborn as sns\n",
    "import matplotlib.pyplot as plt"
   ]
  },
  {
   "cell_type": "code",
   "execution_count": 2,
   "metadata": {},
   "outputs": [],
   "source": [
    "si = np.array([[100,1],[1,100]])\n",
    "phi = np.array([[2,1],[1,2]])"
   ]
  },
  {
   "cell_type": "code",
   "execution_count": 3,
   "metadata": {},
   "outputs": [],
   "source": [
    "def dectobin(val):\n",
    "    x0 = val%2\n",
    "    x1 = val//2\n",
    "    return [x1,x0]\n",
    "\n",
    "def bintodec(x):\n",
    "     return int(''.join(str(el) for  el in x.reshape(-1)),2)\n",
    "    \n",
    "def gibbs_update(x,j,p_j):\n",
    "    x_curr = x.copy()\n",
    "    if j==0:\n",
    "        x_new = np.random.choice([0,1],p=p_j[:,x_curr[1],x_curr[2],x_curr[3]])\n",
    "    if j==1:\n",
    "        x_new = np.random.choice([0,1],p=p_j[x_curr[0],:,x_curr[2],x_curr[3]])\n",
    "    if j==2:\n",
    "        x_new = np.random.choice([0,1],p=p_j[x_curr[0],x_curr[1],:,x_curr[3]])\n",
    "    if j==3:\n",
    "        x_new = np.random.choice([0,1],p=p_j[x_curr[0],x_curr[1],x_curr[2],:])\n",
    "    x_curr[j] = x_new\n",
    "    return x_curr"
   ]
  },
  {
   "cell_type": "code",
   "execution_count": 4,
   "metadata": {},
   "outputs": [],
   "source": [
    "def gibbs_sampler(no_iter=1000,n_samples=1000,tol=1e-2):\n",
    "\n",
    "    x = np.zeros(4,'int')\n",
    "    # calculating the single variable marginals\n",
    "    # utilising the independencies satisified the distribution given\n",
    "    \n",
    "    '''\n",
    "    x1/x(-1) ~ x1/(x1,x2)\n",
    "    '''\n",
    "        \n",
    "    p_1 = np.zeros([2,2,2,2])\n",
    "    p_12 = si/np.sum(si,axis=0)\n",
    "    for x3 in range(2):\n",
    "        for x4 in range(2):\n",
    "            p_1[:,:,x3,x4] = p_12\n",
    "    \n",
    "    '''\n",
    "    x2/x(-2) ~ x2/(x1,x3)\n",
    "    '''\n",
    "        \n",
    "    p_2 = np.zeros([2,2,2,2])\n",
    "    for x1 in range(2):\n",
    "        for x3 in range(2):\n",
    "            for x4 in range(2):\n",
    "                temp = si[x1,:]*phi[:,x3]\n",
    "                p_2[x1,:,x3,x4] = temp/np.sum(temp)\n",
    "        \n",
    "        \n",
    "    '''\n",
    "    x3/x(-3) ~ x3/(x2,x4)\n",
    "    '''\n",
    "    p_3 = np.zeros([2,2,2,2])\n",
    "    for x1 in range(2):\n",
    "        for x2 in range(2):\n",
    "            for x4 in range(2):\n",
    "                temp = si[:,x4]*phi[x2,:]\n",
    "                p_3[x1,x2,:,x4] = temp/np.sum(temp)\n",
    "    \n",
    "    \n",
    "    '''\n",
    "    x4/x(-4) ~ x4/(x3)\n",
    "    '''\n",
    "    p_4 = np.zeros([2,2,2,2])\n",
    "    p_43 = si.T/np.sum(si.T,axis=0)\n",
    "    for x1 in range(2):\n",
    "        for x2 in range(2):\n",
    "            p_4[x1,x2,:,:] = p_43.T\n",
    "\n",
    "    p_tot=[p_1,p_2,p_3,p_4]\n",
    "\n",
    "    x_burnin = []\n",
    "    mean_ = bintodec(x)\n",
    "    mean = 1\n",
    "    \n",
    "    i=0\n",
    "    while((abs(mean_-mean)/(mean_+1)) > tol and i<no_iter):\n",
    "        if(i>1):\n",
    "            mean_ = np.mean(x_burnin[:-1])\n",
    "        \n",
    "        # loop over all x1,x2,x3,x4\n",
    "        for j in range(4):\n",
    "            x = gibbs_update(x,j,p_tot[j])\n",
    "            x_burnin.append(bintodec(x))\n",
    "            mean = np.mean(x_burnin)\n",
    "        i+=1\n",
    "        print(mean,mean_)\n",
    "    burn_in = i\n",
    "    \n",
    "    print(\"Burn-in Steps of normal gibbs:{}\".format(burn_in))\n",
    "    \n",
    "    samples = np.zeros([n_samples*4])\n",
    "    for i in range(n_samples):\n",
    "        # loop over all x1,x2,x3,x4\n",
    "        for j in range(4):\n",
    "            x = gibbs_update(x,j,p_tot[j])\n",
    "            samples[4*i+j] = bintodec(x)\n",
    "    \n",
    "    return samples"
   ]
  },
  {
   "cell_type": "code",
   "execution_count": 5,
   "metadata": {
    "collapsed": true
   },
   "outputs": [],
   "source": [
    "def blocks_gibbs_update(x,j,p_j):\n",
    "    x_curr = x.copy()\n",
    "    if j==0:\n",
    "        x_new = np.random.choice([0,1,2,3],p=(p_j[:,:,x_curr[2],x_curr[3]].reshape(-1)))\n",
    "    if j==1:    \n",
    "        x_new = np.random.choice([0,1,2,3],p=(p_j[x_curr[0],x_curr[1],:,:].reshape(-1)))\n",
    "    x_curr[2*j:2*(j+1)] = dectobin(x_new)\n",
    "    return x_curr"
   ]
  },
  {
   "cell_type": "code",
   "execution_count": 6,
   "metadata": {
    "collapsed": true
   },
   "outputs": [],
   "source": [
    "def double_marginal(x12):\n",
    "    d_marg = np.zeros([2,2,2,2])\n",
    "    \n",
    "    for x1 in range(2):\n",
    "        for x2 in range(2):\n",
    "            for x3 in range(2):\n",
    "                for x4 in range(2):\n",
    "                    if(x12=='12'):\n",
    "                        d_marg[x1,x2,x3,x4] = si[x1,x2]*phi[x2,x3]\n",
    "                    else:\n",
    "                        d_marg[x1,x2,x3,x4] = si[x3,x4]*phi[x2,x3]\n",
    "                    \n",
    "    return d_marg"
   ]
  },
  {
   "cell_type": "code",
   "execution_count": 7,
   "metadata": {},
   "outputs": [],
   "source": [
    "def block_gibbs_sampler(no_iter=1000,n_samples=1000,tol=1e-2):\n",
    "    \n",
    "    x = np.zeros(4,'int')\n",
    "    \n",
    "    '''\n",
    "    x1x2/-(x1x2)\n",
    "    '''\n",
    "        \n",
    "    p_12 = double_marginal('12')\n",
    "    #normalising\n",
    "    p_12 = p_12/np.sum(np.sum(p_12,axis=0),axis=0)\n",
    "    \n",
    "    '''\n",
    "    x3x4/-(x3x4)\n",
    "    '''\n",
    "    p_34 = double_marginal('34')\n",
    "    #normalising\n",
    "    p_34 = p_34/np.sum(np.sum(p_34,axis=-1),axis=-1)\n",
    "    \n",
    "    p_tot = [p_12,p_34]\n",
    "    x_burnin = []\n",
    "    \n",
    "#     mean_ = bintodec(x)\n",
    "    mean = 0\n",
    "    \n",
    "    i=0\n",
    "    diff = 1\n",
    "    while(abs(diff) > tol and i<no_iter):\n",
    "        # loop over all variables\n",
    "#         if(i>1):\n",
    "#             mean_ = np.mean(x_burnin[:-1])\n",
    "        \n",
    "        for j in range(2):\n",
    "            x = blocks_gibbs_update(x,j,p_tot[j])\n",
    "            x_burnin.append(bintodec(x))\n",
    "            diff = (bintodec(x)-mean)/(i+1)\n",
    "            \n",
    "        mean = mean + diff\n",
    "        i+=1\n",
    "#         print(diff,bintodec(x))\n",
    "    burn_in = i\n",
    "    \n",
    "    print(\"Burn-in Steps:{}\".format(burn_in))\n",
    "    \n",
    "    samples = np.zeros([n_samples*2])\n",
    "    for i in range(n_samples):\n",
    "        # loop over all variables\n",
    "        for j in range(2):\n",
    "            x = blocks_gibbs_update(x,j,p_tot[j])        \n",
    "            samples[2*i+j] = bintodec(x)\n",
    "            \n",
    "    return samples"
   ]
  },
  {
   "cell_type": "code",
   "execution_count": 8,
   "metadata": {},
   "outputs": [
    {
     "name": "stdout",
     "output_type": "stream",
     "text": [
      "11.0 0\n",
      "11.5 0\n",
      "11.6666666667 11.4285714286\n",
      "11.75 11.6363636364\n",
      "Burn-in Steps of normal gibbs:4\n"
     ]
    }
   ],
   "source": [
    "samples = gibbs_sampler(tol=1e-2)"
   ]
  },
  {
   "cell_type": "code",
   "execution_count": 9,
   "metadata": {},
   "outputs": [
    {
     "data": {
      "image/png": "[encoded data removed]",
      "text/plain": [
       "<Figure size 432x288 with 1 Axes>"
      ]
     },
     "metadata": {
      "needs_background": "light"
     },
     "output_type": "display_data"
    }
   ],
   "source": [
    "plt.plot(samples)\n",
    "plt.show()"
   ]
  },
  {
   "cell_type": "code",
   "execution_count": 10,
   "metadata": {},
   "outputs": [
    {
     "data": {
      "image/png": "[encoded data removed]",
      "text/plain": [
       "<Figure size 432x288 with 1 Axes>"
      ]
     },
     "metadata": {
      "needs_background": "light"
     },
     "output_type": "display_data"
    }
   ],
   "source": [
    "plt.hist(samples)\n",
    "plt.show()"
   ]
  },
  {
   "cell_type": "code",
   "execution_count": 11,
   "metadata": {},
   "outputs": [
    {
     "name": "stdout",
     "output_type": "stream",
     "text": [
      "Burn-in Steps:2\n"
     ]
    }
   ],
   "source": [
    "samples = block_gibbs_sampler(tol=1e-2)"
   ]
  },
  {
   "cell_type": "code",
   "execution_count": 12,
   "metadata": {},
   "outputs": [
    {
     "data": {
      "image/png": "[encoded data removed]",
      "text/plain": [
       "<Figure size 432x288 with 1 Axes>"
      ]
     },
     "metadata": {
      "needs_background": "light"
     },
     "output_type": "display_data"
    }
   ],
   "source": [
    "plt.plot(samples)\n",
    "plt.show()"
   ]
  },
  {
   "cell_type": "code",
   "execution_count": 13,
   "metadata": {},
   "outputs": [
    {
     "data": {
      "image/png": "[encoded data removed]",
      "text/plain": [
       "<Figure size 432x288 with 1 Axes>"
      ]
     },
     "metadata": {
      "needs_background": "light"
     },
     "output_type": "display_data"
    }
   ],
   "source": [
    "plt.hist(samples)\n",
    "plt.show()"
   ]
  }
 ],
 "metadata": {
  "kernelspec": {
   "display_name": "Python 3",
   "language": "python",
   "name": "python3"
  },
  "language_info": {
   "codemirror_mode": {
    "name": "ipython",
    "version": 3
   },
   "file_extension": ".py",
   "mimetype": "text/x-python",
   "name": "python",
   "nbconvert_exporter": "python",
   "pygments_lexer": "ipython3",
   "version": "3.6.8"
  }
 },
 "nbformat": 4,
 "nbformat_minor": 2
}
